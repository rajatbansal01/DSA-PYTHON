{
 "cells": [
  {
   "cell_type": "markdown",
   "metadata": {},
   "source": [
    "## Object Oriented Programming (Python)\n",
    "#### It is a programming paradigm - A way to write programs\n",
    "\n",
    "**Class** is a template and Object is **Instance** of that class.\n",
    "\n",
    "*We can have multiple instances of a class*\n"
   ]
  },
  {
   "cell_type": "code",
   "execution_count": 2,
   "metadata": {},
   "outputs": [],
   "source": [
    "class Student:  # Class named Student\n",
    "    pass"
   ]
  },
  {
   "cell_type": "code",
   "execution_count": 3,
   "metadata": {},
   "outputs": [],
   "source": [
    "s1 = Student() # s1 is instance of \"Student\" class."
   ]
  },
  {
   "cell_type": "code",
   "execution_count": 7,
   "metadata": {},
   "outputs": [
    {
     "name": "stdout",
     "output_type": "stream",
     "text": [
      "<class '__main__.Student'>\n"
     ]
    }
   ],
   "source": [
    "print(type(s1))"
   ]
  },
  {
   "cell_type": "markdown",
   "metadata": {},
   "source": [
    "**s1 belongs to the class *Student***"
   ]
  },
  {
   "cell_type": "code",
   "execution_count": 8,
   "metadata": {},
   "outputs": [
    {
     "name": "stdout",
     "output_type": "stream",
     "text": [
      "<class 'list'>\n"
     ]
    }
   ],
   "source": [
    "l = list()\n",
    "print(type(l))"
   ]
  },
  {
   "cell_type": "markdown",
   "metadata": {},
   "source": [
    "*l* belongs to the class list()\n",
    "\n",
    "**Infact everything in python is a class**"
   ]
  },
  {
   "cell_type": "markdown",
   "metadata": {},
   "source": [
    "### Attributes in Class"
   ]
  },
  {
   "cell_type": "code",
   "execution_count": 4,
   "metadata": {},
   "outputs": [],
   "source": [
    "s1.name = \"Rajat\""
   ]
  },
  {
   "cell_type": "code",
   "execution_count": 5,
   "metadata": {},
   "outputs": [
    {
     "data": {
      "text/plain": [
       "{'name': 'Rajat'}"
      ]
     },
     "execution_count": 5,
     "metadata": {},
     "output_type": "execute_result"
    }
   ],
   "source": [
    "s1.__dict__"
   ]
  },
  {
   "cell_type": "code",
   "execution_count": null,
   "metadata": {},
   "outputs": [],
   "source": [
    "s2 = Student()\n",
    "s2.name = 'Rajat'\n",
    "s2.rollno = '123'"
   ]
  },
  {
   "cell_type": "markdown",
   "metadata": {},
   "source": [
    "**name and rollno are attributes(data) of the object s2 of class Student**"
   ]
  },
  {
   "cell_type": "code",
   "execution_count": 7,
   "metadata": {},
   "outputs": [
    {
     "data": {
      "text/plain": [
       "{'name': 'Rajat', 'rollno': '123'}"
      ]
     },
     "execution_count": 7,
     "metadata": {},
     "output_type": "execute_result"
    }
   ],
   "source": [
    "s2.__dict__"
   ]
  },
  {
   "cell_type": "markdown",
   "metadata": {},
   "source": [
    "Those attributes are stored as key-value pairs as dict.\n",
    "\n",
    "object.key = value"
   ]
  },
  {
   "cell_type": "code",
   "execution_count": 8,
   "metadata": {},
   "outputs": [
    {
     "data": {
      "text/plain": [
       "True"
      ]
     },
     "execution_count": 8,
     "metadata": {},
     "output_type": "execute_result"
    }
   ],
   "source": [
    "hasattr(s1, 'name') # check if s1 have the attribute named \"name\"."
   ]
  },
  {
   "cell_type": "code",
   "execution_count": 15,
   "metadata": {},
   "outputs": [
    {
     "data": {
      "text/plain": [
       "False"
      ]
     },
     "execution_count": 15,
     "metadata": {},
     "output_type": "execute_result"
    }
   ],
   "source": [
    "hasattr(s1, 'rollno')"
   ]
  },
  {
   "cell_type": "code",
   "execution_count": 9,
   "metadata": {},
   "outputs": [
    {
     "data": {
      "text/plain": [
       "'Rajat'"
      ]
     },
     "execution_count": 9,
     "metadata": {},
     "output_type": "execute_result"
    }
   ],
   "source": [
    "getattr(s1, 'name') # Alternate of object.key"
   ]
  },
  {
   "cell_type": "code",
   "execution_count": 17,
   "metadata": {},
   "outputs": [
    {
     "data": {
      "text/plain": [
       "'123'"
      ]
     },
     "execution_count": 17,
     "metadata": {},
     "output_type": "execute_result"
    }
   ],
   "source": [
    "getattr(s2, 'rollno')"
   ]
  },
  {
   "cell_type": "code",
   "execution_count": 18,
   "metadata": {},
   "outputs": [
    {
     "ename": "AttributeError",
     "evalue": "'Student' object has no attribute 'rollno'",
     "output_type": "error",
     "traceback": [
      "\u001b[1;31m---------------------------------------------------------------------------\u001b[0m",
      "\u001b[1;31mAttributeError\u001b[0m                            Traceback (most recent call last)",
      "\u001b[1;32m<ipython-input-18-03a6c151f88f>\u001b[0m in \u001b[0;36m<module>\u001b[1;34m\u001b[0m\n\u001b[1;32m----> 1\u001b[1;33m \u001b[0mgetattr\u001b[0m\u001b[1;33m(\u001b[0m\u001b[0ms1\u001b[0m\u001b[1;33m,\u001b[0m \u001b[1;34m'rollno'\u001b[0m\u001b[1;33m)\u001b[0m\u001b[1;33m\u001b[0m\u001b[1;33m\u001b[0m\u001b[0m\n\u001b[0m",
      "\u001b[1;31mAttributeError\u001b[0m: 'Student' object has no attribute 'rollno'"
     ]
    }
   ],
   "source": [
    "getattr(s1, 'rollno')"
   ]
  },
  {
   "cell_type": "code",
   "execution_count": 19,
   "metadata": {},
   "outputs": [
    {
     "data": {
      "text/plain": [
       "'not found'"
      ]
     },
     "execution_count": 19,
     "metadata": {},
     "output_type": "execute_result"
    }
   ],
   "source": [
    "# dont want an error\n",
    "getattr(s1, 'rollno', 'not found')"
   ]
  },
  {
   "cell_type": "code",
   "execution_count": 25,
   "metadata": {},
   "outputs": [],
   "source": [
    "# delete attribute\n",
    "delattr(s1, 'name')"
   ]
  },
  {
   "cell_type": "code",
   "execution_count": 26,
   "metadata": {},
   "outputs": [
    {
     "ename": "AttributeError",
     "evalue": "'Student' object has no attribute 'name'",
     "output_type": "error",
     "traceback": [
      "\u001b[1;31m---------------------------------------------------------------------------\u001b[0m",
      "\u001b[1;31mAttributeError\u001b[0m                            Traceback (most recent call last)",
      "\u001b[1;32m<ipython-input-26-bfa1764dcbdc>\u001b[0m in \u001b[0;36m<module>\u001b[1;34m\u001b[0m\n\u001b[1;32m----> 1\u001b[1;33m \u001b[0ms1\u001b[0m\u001b[1;33m.\u001b[0m\u001b[0mname\u001b[0m\u001b[1;33m\u001b[0m\u001b[1;33m\u001b[0m\u001b[0m\n\u001b[0m",
      "\u001b[1;31mAttributeError\u001b[0m: 'Student' object has no attribute 'name'"
     ]
    }
   ],
   "source": [
    "s1.name"
   ]
  },
  {
   "cell_type": "code",
   "execution_count": 27,
   "metadata": {},
   "outputs": [],
   "source": [
    "class student:\n",
    "    name = 'Rajat Bansal'\n",
    "    pp = 80\n",
    "    \n",
    "    def isPassed(self):\n",
    "        self.percentage = 90\n",
    "        if self.percentage > self.pp:\n",
    "            return True"
   ]
  },
  {
   "cell_type": "markdown",
   "metadata": {},
   "source": [
    "### Class and Instance Methods"
   ]
  },
  {
   "cell_type": "code",
   "execution_count": 49,
   "metadata": {},
   "outputs": [],
   "source": [
    "class Student:\n",
    "    passingper = 40\n",
    "    def StudentDetails(self):  # Instance Method\n",
    "        self.name = 'Rajat Bansal'\n",
    "        print(self.name)\n",
    "        \n",
    "        self.percentage = 96\n",
    "        print(self.percentage)\n",
    "        \n",
    "        pass\n",
    "    \n",
    "    def isPassed(self):  # Instance Method\n",
    "        if self.percentage >= self.passingper: # or can use Student.passingper\n",
    "            print(\"passed\")\n",
    "        else:\n",
    "            print(\"Not Passed\")"
   ]
  },
  {
   "cell_type": "code",
   "execution_count": 50,
   "metadata": {},
   "outputs": [
    {
     "name": "stdout",
     "output_type": "stream",
     "text": [
      "Rajat Bansal\n",
      "96\n"
     ]
    }
   ],
   "source": [
    "s1 = Student()\n",
    "s1.StudentDetails()"
   ]
  },
  {
   "cell_type": "code",
   "execution_count": 51,
   "metadata": {},
   "outputs": [
    {
     "name": "stdout",
     "output_type": "stream",
     "text": [
      "passed\n"
     ]
    }
   ],
   "source": [
    "s1.isPassed()"
   ]
  },
  {
   "cell_type": "markdown",
   "metadata": {},
   "source": [
    "**Instance Methods** are those which do require the properties of object and we need to pass the object itself to them."
   ]
  },
  {
   "cell_type": "markdown",
   "metadata": {},
   "source": [
    "### Static Methos\n",
    "These methods are which which do not require properties from the object itself so we do not need to pass 'self' to them. But this can be done by **@staticmethod** decorator. this decorator ignores the first argument from the method."
   ]
  },
  {
   "cell_type": "code",
   "execution_count": 74,
   "metadata": {},
   "outputs": [],
   "source": [
    "class Student:\n",
    "    passingper = 40\n",
    "    name = 'my name'\n",
    "    def StudentDetails(self):  # Instance Method\n",
    "        self.name = 'Rajat Bansal'\n",
    "        print(self.name)\n",
    "        \n",
    "        self.percentage = 96\n",
    "        print(self.percentage)\n",
    "        \n",
    "        pass\n",
    "    \n",
    "    def isPassed(self):  # Instance Method\n",
    "        if self.percentage >= self.passingper: # or can use Student.passingper\n",
    "            print(\"passed\")\n",
    "        else:\n",
    "            print(\"Not Passed\")\n",
    "            \n",
    "    ## Static Method\n",
    "    @staticmethod  # this ignores the first argument in the function\n",
    "    def welcometoschool():\n",
    "        print('Welcome to School')"
   ]
  },
  {
   "cell_type": "code",
   "execution_count": 69,
   "metadata": {},
   "outputs": [],
   "source": [
    "s1 = Student()"
   ]
  },
  {
   "cell_type": "code",
   "execution_count": 67,
   "metadata": {},
   "outputs": [
    {
     "name": "stdout",
     "output_type": "stream",
     "text": [
      "Welcome to School\n"
     ]
    }
   ],
   "source": [
    "s1.welcometoschool()"
   ]
  },
  {
   "cell_type": "code",
   "execution_count": 70,
   "metadata": {},
   "outputs": [
    {
     "data": {
      "text/plain": [
       "'my name'"
      ]
     },
     "execution_count": 70,
     "metadata": {},
     "output_type": "execute_result"
    }
   ],
   "source": [
    "s1.name"
   ]
  },
  {
   "cell_type": "code",
   "execution_count": 72,
   "metadata": {},
   "outputs": [
    {
     "name": "stdout",
     "output_type": "stream",
     "text": [
      "Rajat Bansal\n",
      "96\n"
     ]
    }
   ],
   "source": [
    "s1.StudentDetails() # name updated by the method"
   ]
  },
  {
   "cell_type": "code",
   "execution_count": 73,
   "metadata": {},
   "outputs": [
    {
     "data": {
      "text/plain": [
       "'Rajat Bansal'"
      ]
     },
     "execution_count": 73,
     "metadata": {},
     "output_type": "execute_result"
    }
   ],
   "source": [
    "s1.name"
   ]
  },
  {
   "cell_type": "markdown",
   "metadata": {},
   "source": [
    "### \"__init__ method\""
   ]
  },
  {
   "cell_type": "code",
   "execution_count": 75,
   "metadata": {},
   "outputs": [],
   "source": [
    "class Student:\n",
    "    \n",
    "    def __init__(self, name, rollno):\n",
    "        self.name = name\n",
    "        self.rollno = rollno\n",
    "        \n",
    "    passingper = 40\n",
    "    name = 'my name'\n",
    "    def StudentDetails(self):  # Instance Method\n",
    "        self.name = 'Rajat Bansal'\n",
    "        print(self.name)\n",
    "        \n",
    "        self.percentage = 96\n",
    "        print(self.percentage)\n",
    "        \n",
    "        pass\n",
    "    \n",
    "    def isPassed(self):  # Instance Method\n",
    "        if self.percentage >= self.passingper: # or can use Student.passingper\n",
    "            print(\"passed\")\n",
    "        else:\n",
    "            print(\"Not Passed\")\n",
    "            \n",
    "    ## Static Method\n",
    "    @staticmethod  # this ignores the first argument in the function\n",
    "    def welcometoschool():\n",
    "        print('Welcome to School')"
   ]
  },
  {
   "cell_type": "code",
   "execution_count": 77,
   "metadata": {},
   "outputs": [],
   "source": [
    "s1 = Student('Rajat', 123)"
   ]
  },
  {
   "cell_type": "markdown",
   "metadata": {},
   "source": [
    "## Classmethods\n",
    "**Classmethods** manipulates the input and return an object of any class."
   ]
  },
  {
   "cell_type": "code",
   "execution_count": 90,
   "metadata": {},
   "outputs": [],
   "source": [
    "from datetime import date\n",
    "class Student:\n",
    "    \n",
    "    def __init__(self, name, age, rollno):\n",
    "        self.name = name\n",
    "        self.age = age\n",
    "        self.rollno = rollno\n",
    "    \n",
    "    # classmethod\n",
    "    @classmethod\n",
    "    def fromBithYear(cls, name, year, rollno):\n",
    "        return cls(name, date.today().year - year, rollno)\n",
    "    \n",
    "    \n",
    "\n",
    "    def StudentDetails(self):  # Instance Method\n",
    "        self.name = 'Rajat Bansal'\n",
    "        print(self.name)\n",
    "        print(\"age\", self.age)\n",
    "        self.percentage = 96\n",
    "        print(self.percentage)\n",
    "        \n",
    "        pass\n",
    "    \n",
    "    def isPassed(self):  # Instance Method\n",
    "        if self.percentage >= self.passingper: # or can use Student.passingper\n",
    "            print(\"passed\")\n",
    "        else:\n",
    "            print(\"Not Passed\")\n",
    "            \n",
    "    ## Static Method\n",
    "    @staticmethod  # this ignores the first argument in the function\n",
    "    def welcometoschool():\n",
    "        print('Welcome to School')"
   ]
  },
  {
   "cell_type": "code",
   "execution_count": 82,
   "metadata": {},
   "outputs": [],
   "source": [
    "s1 = Student.fromBithYear('Rajat', 2001, 25)"
   ]
  },
  {
   "cell_type": "code",
   "execution_count": 83,
   "metadata": {},
   "outputs": [
    {
     "name": "stdout",
     "output_type": "stream",
     "text": [
      "Rajat Bansal\n",
      "age 20\n",
      "96\n"
     ]
    }
   ],
   "source": [
    "s1.StudentDetails()"
   ]
  },
  {
   "cell_type": "markdown",
   "metadata": {},
   "source": [
    "### Public and Private Modifiers"
   ]
  },
  {
   "cell_type": "code",
   "execution_count": 28,
   "metadata": {},
   "outputs": [],
   "source": [
    "from datetime import date\n",
    "class Student:\n",
    "    __passingpercentage = 40 # private Variable\n",
    "    \n",
    "    def __init__(self, name,age, rollno):\n",
    "        self.__name = name\n",
    "        self.age = age\n",
    "        self.rollno = rollno\n",
    "    \n",
    "    # classmethod\n",
    "    @classmethod\n",
    "    def fromBithYear(cls, name, year, rollno):\n",
    "        return cls(name, date.today().year - year, rollno)\n",
    "    \n",
    "    \n",
    "\n",
    "    def StudentDetails(self):  # Instance Method\n",
    "        print(self.__name)\n",
    "        print(\"age\", self.age)\n",
    "        self.percentage = 96\n",
    "        print(self.percentage)\n",
    "        \n",
    "        pass\n",
    "    \n",
    "    def isPassed(self):  # Instance Method\n",
    "        if self.percentage >= self.passingper: # or can use Student.passingper\n",
    "            print(\"passed\")\n",
    "        else:\n",
    "            print(\"Not Passed\")\n",
    "            \n",
    "    ## Static Method\n",
    "    @staticmethod  # this ignores the first argument in the function\n",
    "    def welcometoschool():\n",
    "        print('Welcome to School')"
   ]
  },
  {
   "cell_type": "code",
   "execution_count": 29,
   "metadata": {},
   "outputs": [],
   "source": [
    "s1 = Student('Rajat', 20, 251)"
   ]
  },
  {
   "cell_type": "code",
   "execution_count": 30,
   "metadata": {},
   "outputs": [
    {
     "name": "stdout",
     "output_type": "stream",
     "text": [
      "Rajat\n",
      "age 20\n",
      "96\n"
     ]
    }
   ],
   "source": [
    "s1.StudentDetails()"
   ]
  },
  {
   "cell_type": "code",
   "execution_count": 31,
   "metadata": {},
   "outputs": [],
   "source": [
    "s1.name = \"Rohan\""
   ]
  },
  {
   "cell_type": "code",
   "execution_count": 32,
   "metadata": {},
   "outputs": [
    {
     "data": {
      "text/plain": [
       "'Rohan'"
      ]
     },
     "execution_count": 32,
     "metadata": {},
     "output_type": "execute_result"
    }
   ],
   "source": [
    "s1.name"
   ]
  },
  {
   "cell_type": "code",
   "execution_count": 33,
   "metadata": {},
   "outputs": [
    {
     "ename": "AttributeError",
     "evalue": "'Student' object has no attribute '__name'",
     "output_type": "error",
     "traceback": [
      "\u001b[1;31m---------------------------------------------------------------------------\u001b[0m",
      "\u001b[1;31mAttributeError\u001b[0m                            Traceback (most recent call last)",
      "\u001b[1;32m<ipython-input-33-04dad977536f>\u001b[0m in \u001b[0;36m<module>\u001b[1;34m\u001b[0m\n\u001b[1;32m----> 1\u001b[1;33m \u001b[0ms1\u001b[0m\u001b[1;33m.\u001b[0m\u001b[0m__name\u001b[0m\u001b[1;33m\u001b[0m\u001b[1;33m\u001b[0m\u001b[0m\n\u001b[0m",
      "\u001b[1;31mAttributeError\u001b[0m: 'Student' object has no attribute '__name'"
     ]
    }
   ],
   "source": [
    "s1.__name"
   ]
  },
  {
   "cell_type": "code",
   "execution_count": 25,
   "metadata": {},
   "outputs": [
    {
     "data": {
      "text/plain": [
       "'Rajat'"
      ]
     },
     "execution_count": 25,
     "metadata": {},
     "output_type": "execute_result"
    }
   ],
   "source": [
    "# access outside \n",
    "# called Name Bangling Syntax: object._className__varName\n",
    "\n",
    "s1._Student__name"
   ]
  },
  {
   "cell_type": "code",
   "execution_count": 72,
   "metadata": {},
   "outputs": [],
   "source": [
    "class Fraction:\n",
    "    \n",
    "    def __init__(self, num = 0, den = 1):\n",
    "        if den == 0:\n",
    "            # Thorow error\n",
    "            den = 1\n",
    "        self.num = num\n",
    "        self.den = den\n",
    "        \n",
    "    def print(self):\n",
    "        if self.num == 0:\n",
    "            print(0)\n",
    "        elif self.den == 1:\n",
    "            print(self.num)\n",
    "        else:\n",
    "            print(self.num, \"/\" , self.den)\n",
    "    def simplyfy(self):\n",
    "        if self.num == 0:\n",
    "            self.den = 1\n",
    "            return\n",
    "        curr = min(self.num, self.den)\n",
    "        while curr > 1:\n",
    "            if self.num % curr == 0 and self.den % curr == 0:\n",
    "                break\n",
    "            curr -= 1\n",
    "        self.num = self.num // curr\n",
    "        self.den = self.den // curr\n",
    "        \n",
    "    def add(self, other):\n",
    "        newNum = other.den * self.num + other.num * self.den\n",
    "        newDen = other.den * self.den\n",
    "        \n",
    "        self.num = newNum\n",
    "        self.den = newDen\n",
    "        \n",
    "        self.simplyfy()\n",
    "        \n",
    "    def multiply(self, other):\n",
    "        self.num = other.num * self.num\n",
    "        self.den = other.den * self.den\n",
    "        \n",
    "        self.simplyfy\n",
    "        \n",
    "        \n",
    "        \n",
    "        \n",
    "    "
   ]
  },
  {
   "cell_type": "code",
   "execution_count": 77,
   "metadata": {},
   "outputs": [],
   "source": [
    "f1 = Fraction(2,3)\n",
    "f2 = Fraction(1,3)"
   ]
  },
  {
   "cell_type": "code",
   "execution_count": null,
   "metadata": {},
   "outputs": [],
   "source": [
    "f1.add(f2)\n",
    "f1.print()"
   ]
  },
  {
   "cell_type": "code",
   "execution_count": 78,
   "metadata": {},
   "outputs": [
    {
     "name": "stdout",
     "output_type": "stream",
     "text": [
      "2 / 9\n"
     ]
    }
   ],
   "source": [
    "f1.multiply(f2)\n",
    "f1.print()"
   ]
  },
  {
   "cell_type": "code",
   "execution_count": 61,
   "metadata": {},
   "outputs": [
    {
     "data": {
      "text/plain": [
       "{'num': 0, 'den': 5}"
      ]
     },
     "execution_count": 61,
     "metadata": {},
     "output_type": "execute_result"
    }
   ],
   "source": [
    "f.__dict__"
   ]
  },
  {
   "cell_type": "code",
   "execution_count": 62,
   "metadata": {},
   "outputs": [
    {
     "name": "stdout",
     "output_type": "stream",
     "text": [
      "0\n"
     ]
    }
   ],
   "source": [
    "f.print()"
   ]
  },
  {
   "cell_type": "code",
   "execution_count": 63,
   "metadata": {},
   "outputs": [],
   "source": [
    "f.simplyfy()"
   ]
  },
  {
   "cell_type": "code",
   "execution_count": 64,
   "metadata": {},
   "outputs": [
    {
     "name": "stdout",
     "output_type": "stream",
     "text": [
      "0\n"
     ]
    }
   ],
   "source": [
    "f.print()"
   ]
  },
  {
   "cell_type": "markdown",
   "metadata": {},
   "source": [
    "## Complex Numbers"
   ]
  },
  {
   "cell_type": "code",
   "execution_count": 128,
   "metadata": {},
   "outputs": [],
   "source": [
    "class Complex:\n",
    "    def __init__(self, a = 0, b = 0):\n",
    "        self.real = a\n",
    "        self.im = b\n",
    "        print(self.real, \"+ i\" , self.im, sep = \"\")\n",
    "        \n",
    "    def print(self):\n",
    "        print(self.real, \"+ i\" , self.im, sep = \"\")\n",
    "        \n",
    "    def plus(self, other, inplace = False):\n",
    "        a = self.real + other.real\n",
    "        b = self.im + other.im\n",
    "        if inplace == True:\n",
    "            self.real = a\n",
    "            self.im = b\n",
    "            self.print()\n",
    "        else:\n",
    "            return (Complex(a,b))\n",
    "            \n",
    "        \n",
    "    def mul(self, other):\n",
    "        a = (self.real* other.real) - (self.im * other.im)\n",
    "        b = (self.real * other.im) + (self.im * other.real)\n",
    "        self.real = a\n",
    "        self.im = b\n",
    "        self.print()\n",
    "        "
   ]
  },
  {
   "cell_type": "code",
   "execution_count": 129,
   "metadata": {},
   "outputs": [
    {
     "name": "stdout",
     "output_type": "stream",
     "text": [
      "4+ i5\n",
      "6+ i7\n"
     ]
    }
   ],
   "source": [
    "c1 = Complex(4,5)\n",
    "c2 = Complex(6,7)\n"
   ]
  },
  {
   "cell_type": "code",
   "execution_count": 133,
   "metadata": {},
   "outputs": [
    {
     "name": "stdout",
     "output_type": "stream",
     "text": [
      "10+ i12\n"
     ]
    }
   ],
   "source": [
    "n = c1.plus(c2, inplace = True)"
   ]
  },
  {
   "cell_type": "code",
   "execution_count": 134,
   "metadata": {},
   "outputs": [
    {
     "name": "stdout",
     "output_type": "stream",
     "text": [
      "10+ i12\n"
     ]
    }
   ],
   "source": [
    "c1.print()"
   ]
  },
  {
   "cell_type": "code",
   "execution_count": 116,
   "metadata": {},
   "outputs": [
    {
     "name": "stdout",
     "output_type": "stream",
     "text": [
      "-11+ i58\n"
     ]
    }
   ],
   "source": [
    "c1.mul(c2)"
   ]
  },
  {
   "cell_type": "code",
   "execution_count": 121,
   "metadata": {},
   "outputs": [
    {
     "name": "stdout",
     "output_type": "stream",
     "text": [
      "10+ i12\n"
     ]
    }
   ],
   "source": [
    "n.print()"
   ]
  }
 ],
 "metadata": {
  "kernelspec": {
   "display_name": "Python 3",
   "language": "python",
   "name": "python3"
  },
  "language_info": {
   "codemirror_mode": {
    "name": "ipython",
    "version": 3
   },
   "file_extension": ".py",
   "mimetype": "text/x-python",
   "name": "python",
   "nbconvert_exporter": "python",
   "pygments_lexer": "ipython3",
   "version": "3.8.3"
  }
 },
 "nbformat": 4,
 "nbformat_minor": 4
}
