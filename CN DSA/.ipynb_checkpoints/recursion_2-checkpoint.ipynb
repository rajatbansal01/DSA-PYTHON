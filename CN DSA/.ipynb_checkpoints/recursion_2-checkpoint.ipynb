{
 "cells": [
  {
   "cell_type": "markdown",
   "metadata": {},
   "source": [
    "### Vd 1 Recursion with Strings"
   ]
  },
  {
   "cell_type": "code",
   "execution_count": 1,
   "metadata": {},
   "outputs": [],
   "source": [
    "# There is a string s replace all a with b in the string s with recursion.\n",
    "def replace(s,a,b):\n",
    "    l = len(s)\n",
    "    if l == 0:\n",
    "        return s\n",
    "    \n",
    "    if s[0] == a:\n",
    "        return b + replace(s[1:],a,b)\n",
    "    else:\n",
    "        return s[0] + replace(s[1:],a,b)\n",
    "        \n",
    "        "
   ]
  },
  {
   "cell_type": "code",
   "execution_count": 2,
   "metadata": {},
   "outputs": [
    {
     "data": {
      "text/plain": [
       "'bbcbdefbb'"
      ]
     },
     "execution_count": 2,
     "metadata": {},
     "output_type": "execute_result"
    }
   ],
   "source": [
    "replace('abcadefab','a','b')"
   ]
  },
  {
   "cell_type": "markdown",
   "metadata": {},
   "source": [
    "### Remove X\n",
    "\n",
    "Send Feedback\n",
    "\n",
    "Given a string, compute recursively a new string where all 'x' chars have been removed.\n",
    "\n",
    "**Input format :**\n",
    "\n",
    "String S\n",
    "\n",
    "Output format :\n",
    "\n",
    "Modified String\n",
    "\n",
    "**Constraints :**\n",
    "1 <= |S| <= 10^3\n",
    "where |S| represents the length of string S. \n",
    "\n",
    "Sample Input 1 :\n",
    "xaxb\n",
    "\n",
    "Sample Output 1:\n",
    "ab\n",
    "\n",
    "Sample Input 2 :\n",
    "abc\n",
    "\n",
    "Sample Output 2:\n",
    "abc\n",
    "\n",
    "Sample Input 3 :\n",
    "xx\n",
    "\n",
    "Sample Output 3:\n",
    "\n",
    "#### Solution\n",
    "**Base Case** when len(s) == 0\n",
    "\n",
    "**I.H.** = True for s[1:]\n",
    "\n",
    "**I.S.** = check for 1st element if it is x then return x + remove_x(s[1:]) else remove_x(s[1:])"
   ]
  },
  {
   "cell_type": "code",
   "execution_count": 3,
   "metadata": {},
   "outputs": [],
   "source": [
    "def remove_x(s,x):\n",
    "    l = len(s)\n",
    "    if l == 0: ## base case\n",
    "        return s\n",
    "    if s[0] == x: \n",
    "        return remove_x(s[1:],x)\n",
    "    else:\n",
    "        return s[0] + remove_x(s[1:],x)\n",
    "    "
   ]
  },
  {
   "cell_type": "code",
   "execution_count": 4,
   "metadata": {},
   "outputs": [
    {
     "data": {
      "text/plain": [
       "'abcderef'"
      ]
     },
     "execution_count": 4,
     "metadata": {},
     "output_type": "execute_result"
    }
   ],
   "source": [
    "remove_x('abcdxexrxefx','x')"
   ]
  },
  {
   "cell_type": "markdown",
   "metadata": {},
   "source": [
    "### Replace pi with 3.14\n",
    "\n",
    "Given a string **s** and replace all occurances of **pi** with **3.14**.\n",
    "\n",
    "l = len(s)\n",
    "\n",
    "#### Approach\n",
    "\n",
    "**Base Case**:\n",
    "\n",
    "if l == 0 or l == 1 then return the s as it is.\n",
    "\n",
    "**Induction Step and Induction Hypothesis**:\n",
    "\n",
    "Will be true for next part of string as well. There are two cases.\n",
    "\n",
    "**Case  1**: if first two characters of s are 'pi' then return **replacePi(s[2:])+'3.14'**.\n",
    "\n",
    "**Case 2**: if first two chars are not pi then return return **replacePi(s[1:])+s[0]**.\n"
   ]
  },
  {
   "cell_type": "code",
   "execution_count": 18,
   "metadata": {},
   "outputs": [],
   "source": [
    "def replacePi(s):\n",
    "    l = len(s)\n",
    "    if l == 0 or l ==1:\n",
    "        return s\n",
    "    if s[0] == 'p' and s[1] == 'i':\n",
    "        return '3.14' + replacePi(s[2:])\n",
    "    else:\n",
    "        return s[0] + replacePi(s[1:])\n",
    "    "
   ]
  },
  {
   "cell_type": "code",
   "execution_count": 19,
   "metadata": {},
   "outputs": [
    {
     "data": {
      "text/plain": [
       "'hello3.143.143.14r'"
      ]
     },
     "execution_count": 19,
     "metadata": {},
     "output_type": "execute_result"
    }
   ],
   "source": [
    "replacePi('hellopipipir')"
   ]
  },
  {
   "cell_type": "markdown",
   "metadata": {},
   "source": [
    "#### Assignment\n",
    "\n",
    "### Remove Duplicates Recursively\n",
    "\n",
    "Send Feedback\n",
    "\n",
    "Given a string S, remove consecutive duplicates from it recursively.\n",
    "\n",
    "**Input Format :**\n",
    "String S\n",
    "**Output Format :**\n",
    "Output string\n",
    "\n",
    "Constraints :\n",
    "1 <= |S| <= 10^3\n",
    "\n",
    "where |S| represents the length of string\n",
    "\n",
    "Sample Input 1 :\n",
    "aabccba\n",
    "\n",
    "Sample Output 1 :\n",
    "abcba\n",
    "\n",
    "Sample Input 2 :\n",
    "xxxyyyzwwzzz\n",
    "\n",
    "Sample Output 2 :\n",
    "xyzwz\n",
    "\n"
   ]
  },
  {
   "cell_type": "markdown",
   "metadata": {},
   "source": [
    "### Solution:\n",
    "String is **s**.\n",
    "and l = len(s)\n",
    "\n",
    "**Base Case**: if l == 0 or l == 1 then return s as it is ; i.e. Empty string or string with length one can not have duplicates.\n",
    "\n",
    "**Induction Hypothesis**: Assume that s[1:] will be already removed duplicates.\n",
    "\n",
    "**Induction Step and Cases**: we need return to only some character if two consecutive are not same when first two are same then will make another call with removeDup(s[1:])\n",
    "\n",
    "**Case 1**:\n",
    "if s[0] == s[1] then return  removeDup(s[1:])\n",
    "\n",
    "**Case 2**:\n",
    "if above is not the case then return s[0] + removeDup(s[1:])"
   ]
  },
  {
   "cell_type": "code",
   "execution_count": 41,
   "metadata": {},
   "outputs": [],
   "source": [
    "def removeDup(s):\n",
    "    l = len(s)\n",
    "    if l == 0 or l == 1:\n",
    "        return s\n",
    "    if s[0] == s[1]:\n",
    "        return removeDup(s[1:])\n",
    "    else:\n",
    "        return s[0] + removeDup(s[1:])"
   ]
  },
  {
   "cell_type": "code",
   "execution_count": 42,
   "metadata": {},
   "outputs": [
    {
     "data": {
      "text/plain": [
       "'xyzabc'"
      ]
     },
     "execution_count": 42,
     "metadata": {},
     "output_type": "execute_result"
    }
   ],
   "source": [
    "removeDup(\"xxxxxxyyyzzabc\")"
   ]
  },
  {
   "cell_type": "markdown",
   "metadata": {},
   "source": [
    "## Binary Search Using Recursion"
   ]
  },
  {
   "cell_type": "code",
   "execution_count": 5,
   "metadata": {},
   "outputs": [],
   "source": [
    "def bin_search(arr,x,si,ei):\n",
    "    if si > ei:\n",
    "        return -1\n",
    "    mid = (si + ei) // 2\n",
    "    if arr[mid] == x:\n",
    "        return mid\n",
    "    elif arr[mid] > x:\n",
    "        return bin_search(arr,x,si,mid-1)\n",
    "    else:\n",
    "        return bin_search(arr,x,mid+1,ei)\n",
    "    "
   ]
  },
  {
   "cell_type": "code",
   "execution_count": 7,
   "metadata": {},
   "outputs": [
    {
     "data": {
      "text/plain": [
       "-1"
      ]
     },
     "execution_count": 7,
     "metadata": {},
     "output_type": "execute_result"
    }
   ],
   "source": [
    "bin_search([1,2,3,4],5,0,3)"
   ]
  },
  {
   "cell_type": "markdown",
   "metadata": {},
   "source": [
    "## Merge Sort using Recursion"
   ]
  },
  {
   "cell_type": "code",
   "execution_count": 19,
   "metadata": {},
   "outputs": [],
   "source": [
    "def merge(a1,a2,a):\n",
    "    i = 0\n",
    "    j = 0\n",
    "    k = 0\n",
    "    while i < len(a1) and j < len(a2):\n",
    "        if a1[i] < a2[j]:\n",
    "            a[k] = a1[i]\n",
    "            k = k + 1\n",
    "            i = i + 1\n",
    "        else:\n",
    "            a[k] = a2[j]\n",
    "            k = k+1\n",
    "            j = j+1\n",
    "            \n",
    "    while i < len(a1):\n",
    "        a[k] = a1[i]\n",
    "        k = k + 1\n",
    "        i = i + 1\n",
    "    while j < len(a2):\n",
    "        a[k] = a2[j]\n",
    "        k = k+1\n",
    "        j = j+1\n"
   ]
  },
  {
   "cell_type": "code",
   "execution_count": 20,
   "metadata": {},
   "outputs": [],
   "source": [
    "def merge_sort(arr):\n",
    "    if len(arr) == 0 or len(arr) == 1:\n",
    "        return\n",
    "    mid = len(arr)//2\n",
    "    \n",
    "    a1 = arr[0:mid]\n",
    "    a2 = arr[mid:]\n",
    "    \n",
    "    merge(a1,a2,arr)"
   ]
  },
  {
   "cell_type": "code",
   "execution_count": 21,
   "metadata": {},
   "outputs": [],
   "source": [
    "a = [1,3,5,7,2,4,6,8]\n",
    "merge_sort(a)"
   ]
  },
  {
   "cell_type": "code",
   "execution_count": 22,
   "metadata": {},
   "outputs": [
    {
     "data": {
      "text/plain": [
       "[1, 2, 3, 4, 5, 6, 7, 8]"
      ]
     },
     "execution_count": 22,
     "metadata": {},
     "output_type": "execute_result"
    }
   ],
   "source": [
    "a"
   ]
  },
  {
   "cell_type": "markdown",
   "metadata": {},
   "source": [
    "## Quick Sort"
   ]
  },
  {
   "cell_type": "code",
   "execution_count": 29,
   "metadata": {},
   "outputs": [],
   "source": [
    "def partition(a,si,ei):\n",
    "    p = a[si]\n",
    "    c = 0\n",
    "    for i in range(si,ei+1):\n",
    "        if a[i] < p:\n",
    "            c += 1\n",
    "    a[si], a[si+c] = a[si+c], a[si]\n",
    "    i = si\n",
    "    j = ei\n",
    "    while i < j:\n",
    "        if a[i] < p:\n",
    "            i = i+1\n",
    "        elif a[j] >= p:\n",
    "            j = j-1\n",
    "        else:\n",
    "            a[i], a[j] = a[j], a[i]\n",
    "            i = i+1\n",
    "            j = j-1\n",
    "    return si+c"
   ]
  },
  {
   "cell_type": "code",
   "execution_count": 30,
   "metadata": {},
   "outputs": [],
   "source": [
    "def quick_sort(arr,si,ei):\n",
    "    if si >= ei:\n",
    "        return\n",
    "    i = partition(arr,si,ei)\n",
    "    quick_sort(arr,si,i-1)\n",
    "    quick_sort(arr, i+1, ei)\n",
    "        "
   ]
  },
  {
   "cell_type": "code",
   "execution_count": 33,
   "metadata": {},
   "outputs": [],
   "source": [
    "a = [5,1,3,5,7,2,4,6,8,5,5,5,5]\n",
    "quick_sort(a,0,len(a)-1)"
   ]
  },
  {
   "cell_type": "code",
   "execution_count": 34,
   "metadata": {},
   "outputs": [
    {
     "data": {
      "text/plain": [
       "[1, 2, 3, 4, 5, 5, 5, 5, 5, 5, 6, 7, 8]"
      ]
     },
     "execution_count": 34,
     "metadata": {},
     "output_type": "execute_result"
    }
   ],
   "source": [
    "a"
   ]
  },
  {
   "cell_type": "code",
   "execution_count": null,
   "metadata": {},
   "outputs": [],
   "source": [
    "def partition(arr,si,ei):\n",
    "    \"\"\"This takes a array and two indices, si and ei, and returns the index of the pivot element\n",
    "\n",
    "    Args:\n",
    "        arr (list): list to partition\n",
    "        si (int): start index of list\n",
    "        ei (int): end index of list\n",
    "    \"\"\"\n",
    "    pivot = arr[ei]\n",
    "    i = si\n",
    "    for j in range(si,ei):\n",
    "        if arr[j] <= pivot:\n",
    "            arr[i],arr[j] = arr[j],arr[i]\n",
    "            i += 1\n",
    "    arr[i],arr[ei] = arr[ei],arr[i]\n",
    "    return i"
   ]
  },
  {
   "cell_type": "markdown",
   "metadata": {},
   "source": [
    "## Tower of Hanoi"
   ]
  },
  {
   "cell_type": "code",
   "execution_count": 1,
   "metadata": {},
   "outputs": [],
   "source": [
    "def tower_of_hanoi(n,a,b,c):\n",
    "    if n == 1:\n",
    "        print(a,c)\n",
    "        return\n",
    "    tower_of_hanoi(n-1,a,c,b)\n",
    "    print(n , \" th \", a , c)\n",
    "    tower_of_hanoi(n-1,b,a,c)"
   ]
  },
  {
   "cell_type": "code",
   "execution_count": 2,
   "metadata": {},
   "outputs": [
    {
     "name": "stdout",
     "output_type": "stream",
     "text": [
      "a c\n",
      "2  th  a b\n",
      "c b\n",
      "3  th  a c\n",
      "b a\n",
      "2  th  b c\n",
      "a c\n"
     ]
    }
   ],
   "source": [
    "tower_of_hanoi(3,'a','b','c')"
   ]
  },
  {
   "cell_type": "code",
   "execution_count": null,
   "metadata": {},
   "outputs": [],
   "source": []
  }
 ],
 "metadata": {
  "interpreter": {
   "hash": "acc08ea5c749bd4e531630e262986073086b92109846a874b12690e835bc9bee"
  },
  "kernelspec": {
   "display_name": "Python 3",
   "language": "python",
   "name": "python3"
  },
  "language_info": {
   "codemirror_mode": {
    "name": "ipython",
    "version": 3
   },
   "file_extension": ".py",
   "mimetype": "text/x-python",
   "name": "python",
   "nbconvert_exporter": "python",
   "pygments_lexer": "ipython3",
   "version": "3.8.3"
  }
 },
 "nbformat": 4,
 "nbformat_minor": 4
}
